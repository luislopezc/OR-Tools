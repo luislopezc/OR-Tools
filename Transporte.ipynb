{
 "cells": [
  {
   "cell_type": "markdown",
   "metadata": {},
   "source": [
    "# Problema de transporte\n",
    "## Problema desbalanceado\n",
    "\n",
    "Supongamos el siguiente problema de transporte:\n",
    "\n",
    "Se tienen tres plantas (P1, P2 y P3) cada una con capacidad de producción y despacho de 1000 unidades por semana. Hay tres clientes (C1, C2 y C3) con demandas de 1000, 1000 y 1200 unidades por semana respectivamente.\n",
    "\n",
    "Los costos unitarios de transporte se muestran en la siguiente tabla:\n",
    "\n",
    "|    | C1  | C2   | C3  |\n",
    "| -- | --- | ---- | --- |\n",
    "| P1 | 150 | 200  | 350 |\n",
    "| P2 | 560 | 1200 | 85  |\n",
    "| P3 | 690 | 300  | 178 |\n",
    "\n",
    "Se debe determinar qué cantidad enviar desde cada planta hacia cada cliente de tal forma que se minimice el costo de transporte.\n",
    "\n",
    "Ya que la capacidad semanal de producción de las plantas es menor que la demanda de los clientes (por 200 unidades), es necesario crear un origen ficticio cuya capacidad son esas 200 unidades. Lo que el problema determine que se \"envía\" desde esta planta, será demanda no satisfecha."
   ]
  },
  {
   "cell_type": "markdown",
   "metadata": {},
   "source": [
    "### Formulación del problema\n",
    "\n",
    "#### Conjuntos:\n",
    "\n",
    "Plantas (orígenes): $i=\\left \\{ 1,2,3,4 \\right \\}$.\n",
    "\n",
    "Clientes (destinos): $j=\\left \\{ 1,2,3 \\right \\}$.\n"
   ]
  },
  {
   "cell_type": "code",
   "execution_count": 1,
   "metadata": {},
   "outputs": [],
   "source": [
    "# Importar librerías\n",
    "from ortools.linear_solver import pywraplp\n",
    "import pandas as pd\n",
    "\n",
    "# Conjuntos\n",
    "plantas = ['P1', 'P2', 'P3', 'PF']\n",
    "clientes = ['C1', 'C2', 'C3']\n",
    "\n",
    "# Número de plantas y clientes\n",
    "num_plantas = len(plantas)\n",
    "num_clientes = len(clientes)"
   ]
  },
  {
   "cell_type": "markdown",
   "metadata": {},
   "source": [
    "#### Parámetros\n",
    "\n",
    "Costos unitarios de transporte:\n",
    "\n",
    "$$C_{i,j}=\\begin{bmatrix}\n",
    "150 & 200 & 350\\\\ \n",
    "560 & 1200 & 85\\\\ \n",
    "690 & 300 & 178\\\\ \n",
    "0 & 0 & 0\n",
    "\\end{bmatrix}$$"
   ]
  },
  {
   "cell_type": "code",
   "execution_count": 2,
   "metadata": {},
   "outputs": [],
   "source": [
    "# Utlizamos diccionario\n",
    "costo = {\n",
    "    ('P1', 'C1'): 150,\n",
    "    ('P1', 'C2'): 200,\n",
    "    ('P1', 'C3'): 350,\n",
    "    ('P2', 'C1'): 560,\n",
    "    ('P2', 'C2'): 1200,\n",
    "    ('P2', 'C3'): 85,\n",
    "    ('P3', 'C1'): 690,\n",
    "    ('P3', 'C2'): 300,\n",
    "    ('P3', 'C3'): 178,\n",
    "    ('PF', 'C1'): 0,\n",
    "    ('PF', 'C2'): 0,\n",
    "    ('PF', 'C3'): 0\n",
    "    }"
   ]
  },
  {
   "cell_type": "markdown",
   "metadata": {},
   "source": [
    "Capacidad de las plantas:\n",
    "$$S_i=\\begin{bmatrix}\n",
    "1000\\\\\n",
    "1000\\\\ \n",
    "1000\\\\ \n",
    "200\n",
    "\\end{bmatrix}$$"
   ]
  },
  {
   "cell_type": "code",
   "execution_count": 3,
   "metadata": {},
   "outputs": [],
   "source": [
    "capacidad = {\n",
    "    'P1': 1000,\n",
    "    'P2': 1000,\n",
    "    'P3': 1000,\n",
    "    'PF': 200\n",
    "    }"
   ]
  },
  {
   "cell_type": "markdown",
   "metadata": {},
   "source": [
    "Demanda de los clientes:\n",
    "$$D_j=\\begin{bmatrix}\n",
    "1000\\\\ \n",
    "1000\\\\ \n",
    "1200\n",
    "\\end{bmatrix}$$"
   ]
  },
  {
   "cell_type": "code",
   "execution_count": 4,
   "metadata": {},
   "outputs": [],
   "source": [
    "demanda = {\n",
    "    'C1': 1000,\n",
    "    'C2': 1000,\n",
    "    'C3': 1200\n",
    "    }"
   ]
  },
  {
   "cell_type": "markdown",
   "metadata": {},
   "source": [
    "#### Variables de decisión\n",
    "$X_{i,j}$: cantidad a transportar (und/semana) entre la planta $i$ y el cliente $j$.\n",
    "\n",
    "$X_{i,j} \\geq 0, \\forall i,j$"
   ]
  },
  {
   "cell_type": "code",
   "execution_count": 5,
   "metadata": {},
   "outputs": [],
   "source": [
    "# Instanciar el modelo\n",
    "solver = pywraplp.Solver('Transporte2', pywraplp.Solver.GLOP_LINEAR_PROGRAMMING)\n",
    "\n",
    "# Instanciar el infinito\n",
    "inf = solver.infinity()\n",
    "\n",
    "# Variables de decisión\n",
    "X = {}  #Diccionario vacío\n",
    "\n",
    "for planta in plantas:\n",
    "    for cliente in clientes:\n",
    "        X[planta,cliente] = solver.NumVar(0.0, inf, 'X[%s,%s]' % (planta, cliente))"
   ]
  },
  {
   "cell_type": "markdown",
   "metadata": {},
   "source": [
    "#### Función objetivo\n",
    "\n",
    "Minimizar los costos totales de transporte:\n",
    "\n",
    "$$\\text{Minimizar } Z =\\displaystyle \\sum_i\\sum_j C_{i,j}X_{i,j}$$"
   ]
  },
  {
   "cell_type": "code",
   "execution_count": 6,
   "metadata": {},
   "outputs": [],
   "source": [
    "# Función objetivo\n",
    "solver.Minimize(solver.Sum([X[planta,cliente]*costo[(planta,cliente)] \n",
    "                            for planta in plantas \n",
    "                            for cliente in clientes]))"
   ]
  },
  {
   "cell_type": "markdown",
   "metadata": {},
   "source": [
    "#### Restricciones\n",
    "\n",
    "No se puede superar la capacidad de las plantas:\n",
    "\n",
    "$$\\displaystyle \\sum_j X_{i,j} \\leq S_i, \\forall i$$"
   ]
  },
  {
   "cell_type": "code",
   "execution_count": 7,
   "metadata": {},
   "outputs": [],
   "source": [
    "# Capacidad de las plantas\n",
    "rest_cap = [] #Lista con los nombres de las restricciones\n",
    "for planta in plantas:\n",
    "    solver.Add(solver.Sum([X[planta,cliente] for cliente in clientes]) <= capacidad[planta], name = 'capacidad_%s' % planta)\n",
    "    rest_cap.append('capacidad_%s' % planta)"
   ]
  },
  {
   "cell_type": "markdown",
   "metadata": {},
   "source": [
    "Se debe satisfacer la demanda de los clientes:\n",
    "$$\\displaystyle \\sum_i X_{i,j} \\geq D_j, \\forall j$$"
   ]
  },
  {
   "cell_type": "code",
   "execution_count": 8,
   "metadata": {},
   "outputs": [],
   "source": [
    "# Demanda de los clientes\n",
    "rest_dem = [] #Lista con los nombres de las restricciones\n",
    "for cliente in clientes:\n",
    "    solver.Add(solver.Sum([X[planta,cliente] for planta in plantas]) >= demanda[cliente], name = 'demanda_%s' % cliente)\n",
    "    rest_dem.append('demanda_%s' % cliente)"
   ]
  },
  {
   "cell_type": "markdown",
   "metadata": {},
   "source": [
    "### Solucionar el modelo y mostrar los resultados"
   ]
  },
  {
   "cell_type": "code",
   "execution_count": 9,
   "metadata": {},
   "outputs": [
    {
     "name": "stdout",
     "output_type": "stream",
     "text": [
      "Número de variables = 12\n",
      "Número de restricciones = 7\n",
      "Costo =  510600.0\n",
      "Tiempo =  760894 milisegundos\n"
     ]
    }
   ],
   "source": [
    "# Resolver el modelo\n",
    "sol = solver.Solve()\n",
    "\n",
    "# Imprimir resultados\n",
    "print('Número de variables =', solver.NumVariables())\n",
    "print('Número de restricciones =', solver.NumConstraints())\n",
    "print('Costo = ', solver.Objective().Value())\n",
    "print('Tiempo = ', solver.WallTime(), 'milisegundos')"
   ]
  },
  {
   "cell_type": "code",
   "execution_count": 10,
   "metadata": {},
   "outputs": [],
   "source": [
    "# Variables de decisión\n",
    "cols1 = ['Variable', 'Valor', 'Status', 'Costo_Reducido']\n",
    "data1 = []\n",
    "for planta in plantas:\n",
    "    for cliente in clientes:\n",
    "        data1.append([X[planta,cliente].name(), X[planta,cliente].solution_value(),\n",
    "                      X[planta,cliente].basis_status(), X[planta,cliente].reduced_cost(),\n",
    "                      ])\n",
    "\n",
    "# Convertir en dataframe de pandas\n",
    "sal1 = pd.DataFrame(data1, columns = cols1)"
   ]
  },
  {
   "cell_type": "code",
   "execution_count": 11,
   "metadata": {},
   "outputs": [
    {
     "data": {
      "text/html": [
       "<div>\n",
       "<style scoped>\n",
       "    .dataframe tbody tr th:only-of-type {\n",
       "        vertical-align: middle;\n",
       "    }\n",
       "\n",
       "    .dataframe tbody tr th {\n",
       "        vertical-align: top;\n",
       "    }\n",
       "\n",
       "    .dataframe thead th {\n",
       "        text-align: right;\n",
       "    }\n",
       "</style>\n",
       "<table border=\"1\" class=\"dataframe\">\n",
       "  <thead>\n",
       "    <tr style=\"text-align: right;\">\n",
       "      <th></th>\n",
       "      <th>Variable</th>\n",
       "      <th>Valor</th>\n",
       "      <th>Status</th>\n",
       "      <th>Costo_Reducido</th>\n",
       "    </tr>\n",
       "  </thead>\n",
       "  <tbody>\n",
       "    <tr>\n",
       "      <th>0</th>\n",
       "      <td>X[P1,C1]</td>\n",
       "      <td>1000.0</td>\n",
       "      <td>4</td>\n",
       "      <td>0.000000e+00</td>\n",
       "    </tr>\n",
       "    <tr>\n",
       "      <th>1</th>\n",
       "      <td>X[P1,C2]</td>\n",
       "      <td>0.0</td>\n",
       "      <td>4</td>\n",
       "      <td>0.000000e+00</td>\n",
       "    </tr>\n",
       "    <tr>\n",
       "      <th>2</th>\n",
       "      <td>X[P1,C3]</td>\n",
       "      <td>0.0</td>\n",
       "      <td>1</td>\n",
       "      <td>2.720000e+02</td>\n",
       "    </tr>\n",
       "    <tr>\n",
       "      <th>3</th>\n",
       "      <td>X[P2,C1]</td>\n",
       "      <td>0.0</td>\n",
       "      <td>1</td>\n",
       "      <td>4.030000e+02</td>\n",
       "    </tr>\n",
       "    <tr>\n",
       "      <th>4</th>\n",
       "      <td>X[P2,C2]</td>\n",
       "      <td>0.0</td>\n",
       "      <td>1</td>\n",
       "      <td>9.930000e+02</td>\n",
       "    </tr>\n",
       "    <tr>\n",
       "      <th>5</th>\n",
       "      <td>X[P2,C3]</td>\n",
       "      <td>1000.0</td>\n",
       "      <td>4</td>\n",
       "      <td>1.421085e-14</td>\n",
       "    </tr>\n",
       "    <tr>\n",
       "      <th>6</th>\n",
       "      <td>X[P3,C1]</td>\n",
       "      <td>0.0</td>\n",
       "      <td>1</td>\n",
       "      <td>4.400000e+02</td>\n",
       "    </tr>\n",
       "    <tr>\n",
       "      <th>7</th>\n",
       "      <td>X[P3,C2]</td>\n",
       "      <td>800.0</td>\n",
       "      <td>4</td>\n",
       "      <td>0.000000e+00</td>\n",
       "    </tr>\n",
       "    <tr>\n",
       "      <th>8</th>\n",
       "      <td>X[P3,C3]</td>\n",
       "      <td>200.0</td>\n",
       "      <td>4</td>\n",
       "      <td>0.000000e+00</td>\n",
       "    </tr>\n",
       "    <tr>\n",
       "      <th>9</th>\n",
       "      <td>X[PF,C1]</td>\n",
       "      <td>0.0</td>\n",
       "      <td>1</td>\n",
       "      <td>5.000000e+01</td>\n",
       "    </tr>\n",
       "    <tr>\n",
       "      <th>10</th>\n",
       "      <td>X[PF,C2]</td>\n",
       "      <td>200.0</td>\n",
       "      <td>4</td>\n",
       "      <td>0.000000e+00</td>\n",
       "    </tr>\n",
       "    <tr>\n",
       "      <th>11</th>\n",
       "      <td>X[PF,C3]</td>\n",
       "      <td>0.0</td>\n",
       "      <td>1</td>\n",
       "      <td>1.220000e+02</td>\n",
       "    </tr>\n",
       "  </tbody>\n",
       "</table>\n",
       "</div>"
      ],
      "text/plain": [
       "    Variable   Valor  Status  Costo_Reducido\n",
       "0   X[P1,C1]  1000.0       4    0.000000e+00\n",
       "1   X[P1,C2]     0.0       4    0.000000e+00\n",
       "2   X[P1,C3]     0.0       1    2.720000e+02\n",
       "3   X[P2,C1]     0.0       1    4.030000e+02\n",
       "4   X[P2,C2]     0.0       1    9.930000e+02\n",
       "5   X[P2,C3]  1000.0       4    1.421085e-14\n",
       "6   X[P3,C1]     0.0       1    4.400000e+02\n",
       "7   X[P3,C2]   800.0       4    0.000000e+00\n",
       "8   X[P3,C3]   200.0       4    0.000000e+00\n",
       "9   X[PF,C1]     0.0       1    5.000000e+01\n",
       "10  X[PF,C2]   200.0       4    0.000000e+00\n",
       "11  X[PF,C3]     0.0       1    1.220000e+02"
      ]
     },
     "execution_count": 11,
     "metadata": {},
     "output_type": "execute_result"
    }
   ],
   "source": [
    "sal1"
   ]
  },
  {
   "cell_type": "code",
   "execution_count": 12,
   "metadata": {},
   "outputs": [],
   "source": [
    "# Restricciones\n",
    "cols2 = ['Restricción','Status','Valor_Dual']\n",
    "restricciones = rest_cap + rest_dem\n",
    "data2 = []\n",
    "for restriccion in restricciones:\n",
    "    data2.append([solver.Constraint(restriccion).name(),\n",
    "                  solver.Constraint(restriccion).basis_status(),\n",
    "                  solver.Constraint(restriccion).dual_value()])\n",
    "\n",
    "# Convertir en dataframe de pandas\n",
    "sal2 = pd.DataFrame(data2, columns = cols2)"
   ]
  },
  {
   "cell_type": "code",
   "execution_count": 13,
   "metadata": {},
   "outputs": [
    {
     "data": {
      "text/html": [
       "<div>\n",
       "<style scoped>\n",
       "    .dataframe tbody tr th:only-of-type {\n",
       "        vertical-align: middle;\n",
       "    }\n",
       "\n",
       "    .dataframe tbody tr th {\n",
       "        vertical-align: top;\n",
       "    }\n",
       "\n",
       "    .dataframe thead th {\n",
       "        text-align: right;\n",
       "    }\n",
       "</style>\n",
       "<table border=\"1\" class=\"dataframe\">\n",
       "  <thead>\n",
       "    <tr style=\"text-align: right;\">\n",
       "      <th></th>\n",
       "      <th>Restricción</th>\n",
       "      <th>Status</th>\n",
       "      <th>Valor_Dual</th>\n",
       "    </tr>\n",
       "  </thead>\n",
       "  <tbody>\n",
       "    <tr>\n",
       "      <th>0</th>\n",
       "      <td>capacidad_P1</td>\n",
       "      <td>0</td>\n",
       "      <td>0.0</td>\n",
       "    </tr>\n",
       "    <tr>\n",
       "      <th>1</th>\n",
       "      <td>capacidad_P2</td>\n",
       "      <td>0</td>\n",
       "      <td>0.0</td>\n",
       "    </tr>\n",
       "    <tr>\n",
       "      <th>2</th>\n",
       "      <td>capacidad_P3</td>\n",
       "      <td>0</td>\n",
       "      <td>0.0</td>\n",
       "    </tr>\n",
       "    <tr>\n",
       "      <th>3</th>\n",
       "      <td>capacidad_PF</td>\n",
       "      <td>0</td>\n",
       "      <td>0.0</td>\n",
       "    </tr>\n",
       "    <tr>\n",
       "      <th>4</th>\n",
       "      <td>demanda_C1</td>\n",
       "      <td>0</td>\n",
       "      <td>0.0</td>\n",
       "    </tr>\n",
       "    <tr>\n",
       "      <th>5</th>\n",
       "      <td>demanda_C2</td>\n",
       "      <td>0</td>\n",
       "      <td>0.0</td>\n",
       "    </tr>\n",
       "    <tr>\n",
       "      <th>6</th>\n",
       "      <td>demanda_C3</td>\n",
       "      <td>0</td>\n",
       "      <td>0.0</td>\n",
       "    </tr>\n",
       "  </tbody>\n",
       "</table>\n",
       "</div>"
      ],
      "text/plain": [
       "    Restricción  Status  Valor_Dual\n",
       "0  capacidad_P1       0         0.0\n",
       "1  capacidad_P2       0         0.0\n",
       "2  capacidad_P3       0         0.0\n",
       "3  capacidad_PF       0         0.0\n",
       "4    demanda_C1       0         0.0\n",
       "5    demanda_C2       0         0.0\n",
       "6    demanda_C3       0         0.0"
      ]
     },
     "execution_count": 13,
     "metadata": {},
     "output_type": "execute_result"
    }
   ],
   "source": [
    "sal2"
   ]
  },
  {
   "cell_type": "markdown",
   "metadata": {},
   "source": [
    "### Grafo"
   ]
  },
  {
   "cell_type": "code",
   "execution_count": 14,
   "metadata": {},
   "outputs": [],
   "source": [
    "# Importar librerías\n",
    "import numpy as np\n",
    "import networkx as nx\n",
    "import matplotlib.pyplot as plt"
   ]
  },
  {
   "cell_type": "code",
   "execution_count": 17,
   "metadata": {},
   "outputs": [],
   "source": [
    "# Construir dataframe con las conexiones\n",
    "df = pd.DataFrame({'from': ['P1', 'P2', 'P3', 'P3', 'PF'], \n",
    "                   'to': ['C1', 'C3', 'C2', 'C3', 'C2'],\n",
    "                  'value': [1000, 1000, 800, 200, 200]})"
   ]
  },
  {
   "cell_type": "code",
   "execution_count": 18,
   "metadata": {},
   "outputs": [
    {
     "data": {
      "text/html": [
       "<div>\n",
       "<style scoped>\n",
       "    .dataframe tbody tr th:only-of-type {\n",
       "        vertical-align: middle;\n",
       "    }\n",
       "\n",
       "    .dataframe tbody tr th {\n",
       "        vertical-align: top;\n",
       "    }\n",
       "\n",
       "    .dataframe thead th {\n",
       "        text-align: right;\n",
       "    }\n",
       "</style>\n",
       "<table border=\"1\" class=\"dataframe\">\n",
       "  <thead>\n",
       "    <tr style=\"text-align: right;\">\n",
       "      <th></th>\n",
       "      <th>from</th>\n",
       "      <th>to</th>\n",
       "      <th>value</th>\n",
       "    </tr>\n",
       "  </thead>\n",
       "  <tbody>\n",
       "    <tr>\n",
       "      <th>0</th>\n",
       "      <td>P1</td>\n",
       "      <td>C1</td>\n",
       "      <td>1000</td>\n",
       "    </tr>\n",
       "    <tr>\n",
       "      <th>1</th>\n",
       "      <td>P2</td>\n",
       "      <td>C3</td>\n",
       "      <td>1000</td>\n",
       "    </tr>\n",
       "    <tr>\n",
       "      <th>2</th>\n",
       "      <td>P3</td>\n",
       "      <td>C2</td>\n",
       "      <td>800</td>\n",
       "    </tr>\n",
       "    <tr>\n",
       "      <th>3</th>\n",
       "      <td>P3</td>\n",
       "      <td>C3</td>\n",
       "      <td>200</td>\n",
       "    </tr>\n",
       "    <tr>\n",
       "      <th>4</th>\n",
       "      <td>PF</td>\n",
       "      <td>C2</td>\n",
       "      <td>200</td>\n",
       "    </tr>\n",
       "  </tbody>\n",
       "</table>\n",
       "</div>"
      ],
      "text/plain": [
       "  from  to  value\n",
       "0   P1  C1   1000\n",
       "1   P2  C3   1000\n",
       "2   P3  C2    800\n",
       "3   P3  C3    200\n",
       "4   PF  C2    200"
      ]
     },
     "execution_count": 18,
     "metadata": {},
     "output_type": "execute_result"
    }
   ],
   "source": [
    "df"
   ]
  },
  {
   "cell_type": "code",
   "execution_count": 22,
   "metadata": {},
   "outputs": [],
   "source": [
    "# Construir el grafo\n",
    "G = nx.convert_matrix.from_pandas_edgelist(df, 'from', 'to', create_using = nx.Graph() )"
   ]
  },
  {
   "cell_type": "code",
   "execution_count": 26,
   "metadata": {},
   "outputs": [
    {
     "data": {
      "image/png": "[encoded data removed]",
      "text/plain": [
       "<Figure size 432x288 with 1 Axes>"
      ]
     },
     "metadata": {},
     "output_type": "display_data"
    }
   ],
   "source": [
    "# Personalizar los nodosy dibujar el grafo\n",
    "nx.draw(G, with_labels=True, node_color='skyblue', node_size=1000, \n",
    "        edge_color=df['value'], width=20.0, edge_cmap=plt.cm.Blues)"
   ]
  },
  {
   "cell_type": "code",
   "execution_count": null,
   "metadata": {},
   "outputs": [],
   "source": []
  }
 ],
 "metadata": {
  "kernelspec": {
   "display_name": "Python 3",
   "language": "python",
   "name": "python3"
  },
  "language_info": {
   "codemirror_mode": {
    "name": "ipython",
    "version": 3
   },
   "file_extension": ".py",
   "mimetype": "text/x-python",
   "name": "python",
   "nbconvert_exporter": "python",
   "pygments_lexer": "ipython3",
   "version": "3.7.7"
  }
 },
 "nbformat": 4,
 "nbformat_minor": 4
}
